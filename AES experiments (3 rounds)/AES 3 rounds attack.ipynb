{
 "cells": [
  {
   "cell_type": "code",
   "execution_count": 7,
   "id": "58c854e4",
   "metadata": {},
   "outputs": [
    {
     "ename": "KeyboardInterrupt",
     "evalue": "",
     "output_type": "error",
     "traceback": [
      "\u001b[0;31m---------------------------------------------------------------------------\u001b[0m",
      "\u001b[0;31mKeyboardInterrupt\u001b[0m                         Traceback (most recent call last)",
      "Cell \u001b[0;32mIn [7], line 180\u001b[0m\n\u001b[1;32m    177\u001b[0m \u001b[38;5;66;03m# --- Setup: fixed key, round key expansion, and encryption of chosen plaintexts ---\u001b[39;00m\n\u001b[1;32m    178\u001b[0m \u001b[38;5;66;03m# Use a fixed 16-byte key; for example, the sequential bytes 0x00,0x01,...,0x0f.\u001b[39;00m\n\u001b[1;32m    179\u001b[0m key \u001b[38;5;241m=\u001b[39m \u001b[38;5;28mlist\u001b[39m(\u001b[38;5;28mrange\u001b[39m(Integer(\u001b[38;5;241m16\u001b[39m)))\n\u001b[0;32m--> 180\u001b[0m round_keys \u001b[38;5;241m=\u001b[39m \u001b[43mkey_expansion\u001b[49m\u001b[43m(\u001b[49m\u001b[43mkey\u001b[49m\u001b[43m)\u001b[49m\n\u001b[1;32m    182\u001b[0m \u001b[38;5;66;03m# For testing, let’s encrypt a sample plaintext.\u001b[39;00m\n\u001b[1;32m    183\u001b[0m \u001b[38;5;66;03m# (You can uncomment these lines to test a single encryption.)\u001b[39;00m\n\u001b[1;32m    184\u001b[0m \u001b[38;5;66;03m# sample_plaintext = bytes_to_state([0x00]*16)\u001b[39;00m\n\u001b[0;32m   (...)\u001b[0m\n\u001b[1;32m    189\u001b[0m \u001b[38;5;66;03m# We construct a set of 256 plaintexts where only one byte (position (0,0)) varies,\u001b[39;00m\n\u001b[1;32m    190\u001b[0m \u001b[38;5;66;03m# and all other bytes are kept fixed (here, chosen as 0).\u001b[39;00m\n\u001b[1;32m    192\u001b[0m plaintexts \u001b[38;5;241m=\u001b[39m []\n",
      "Cell \u001b[0;32mIn [7], line 132\u001b[0m, in \u001b[0;36mkey_expansion\u001b[0;34m(key)\u001b[0m\n\u001b[1;32m    130\u001b[0m         temp[Integer(\u001b[38;5;241m0\u001b[39m)] \u001b[38;5;241m*\u001b[39m\u001b[38;5;241m*\u001b[39m\u001b[38;5;241m=\u001b[39m rcon[(i\u001b[38;5;241m/\u001b[39m\u001b[38;5;241m/\u001b[39mInteger(\u001b[38;5;241m4\u001b[39m)) \u001b[38;5;241m-\u001b[39m Integer(\u001b[38;5;241m1\u001b[39m)]\n\u001b[1;32m    131\u001b[0m     \u001b[38;5;66;03m# XOR with word 4 positions earlier\u001b[39;00m\n\u001b[0;32m--> 132\u001b[0m     new_word \u001b[38;5;241m=\u001b[39m \u001b[43m[\u001b[49m\u001b[43m \u001b[49m\u001b[43mw\u001b[49m\u001b[43m[\u001b[49m\u001b[43mi\u001b[49m\u001b[38;5;241;43m-\u001b[39;49m\u001b[43mInteger\u001b[49m\u001b[43m(\u001b[49m\u001b[38;5;241;43m4\u001b[39;49m\u001b[43m)\u001b[49m\u001b[43m]\u001b[49m\u001b[43m[\u001b[49m\u001b[43mj\u001b[49m\u001b[43m]\u001b[49m\u001b[43m \u001b[49m\u001b[38;5;241;43m*\u001b[39;49m\u001b[38;5;241;43m*\u001b[39;49m\u001b[43m \u001b[49m\u001b[43mtemp\u001b[49m\u001b[43m[\u001b[49m\u001b[43mj\u001b[49m\u001b[43m]\u001b[49m\u001b[43m \u001b[49m\u001b[38;5;28;43;01mfor\u001b[39;49;00m\u001b[43m \u001b[49m\u001b[43mj\u001b[49m\u001b[43m \u001b[49m\u001b[38;5;129;43;01min\u001b[39;49;00m\u001b[43m \u001b[49m\u001b[38;5;28;43mrange\u001b[39;49m\u001b[43m(\u001b[49m\u001b[43mInteger\u001b[49m\u001b[43m(\u001b[49m\u001b[38;5;241;43m4\u001b[39;49m\u001b[43m)\u001b[49m\u001b[43m)\u001b[49m\u001b[43m \u001b[49m\u001b[43m]\u001b[49m\n\u001b[1;32m    133\u001b[0m     w\u001b[38;5;241m.\u001b[39mappend(new_word)\n\u001b[1;32m    134\u001b[0m \u001b[38;5;66;03m# Now group every 4 words into a round key (as a 4x4 matrix in row order)\u001b[39;00m\n",
      "Cell \u001b[0;32mIn [7], line 132\u001b[0m, in \u001b[0;36m<listcomp>\u001b[0;34m(.0)\u001b[0m\n\u001b[1;32m    130\u001b[0m         temp[Integer(\u001b[38;5;241m0\u001b[39m)] \u001b[38;5;241m*\u001b[39m\u001b[38;5;241m*\u001b[39m\u001b[38;5;241m=\u001b[39m rcon[(i\u001b[38;5;241m/\u001b[39m\u001b[38;5;241m/\u001b[39mInteger(\u001b[38;5;241m4\u001b[39m)) \u001b[38;5;241m-\u001b[39m Integer(\u001b[38;5;241m1\u001b[39m)]\n\u001b[1;32m    131\u001b[0m     \u001b[38;5;66;03m# XOR with word 4 positions earlier\u001b[39;00m\n\u001b[0;32m--> 132\u001b[0m     new_word \u001b[38;5;241m=\u001b[39m [ \u001b[43mw\u001b[49m\u001b[43m[\u001b[49m\u001b[43mi\u001b[49m\u001b[38;5;241;43m-\u001b[39;49m\u001b[43mInteger\u001b[49m\u001b[43m(\u001b[49m\u001b[38;5;241;43m4\u001b[39;49m\u001b[43m)\u001b[49m\u001b[43m]\u001b[49m\u001b[43m[\u001b[49m\u001b[43mj\u001b[49m\u001b[43m]\u001b[49m\u001b[43m \u001b[49m\u001b[38;5;241;43m*\u001b[39;49m\u001b[38;5;241;43m*\u001b[39;49m\u001b[43m \u001b[49m\u001b[43mtemp\u001b[49m\u001b[43m[\u001b[49m\u001b[43mj\u001b[49m\u001b[43m]\u001b[49m \u001b[38;5;28;01mfor\u001b[39;00m j \u001b[38;5;129;01min\u001b[39;00m \u001b[38;5;28mrange\u001b[39m(Integer(\u001b[38;5;241m4\u001b[39m)) ]\n\u001b[1;32m    133\u001b[0m     w\u001b[38;5;241m.\u001b[39mappend(new_word)\n\u001b[1;32m    134\u001b[0m \u001b[38;5;66;03m# Now group every 4 words into a round key (as a 4x4 matrix in row order)\u001b[39;00m\n",
      "File \u001b[0;32msrc/cysignals/signals.pyx:310\u001b[0m, in \u001b[0;36mcysignals.signals.python_check_interrupt\u001b[0;34m()\u001b[0m\n",
      "\u001b[0;31mKeyboardInterrupt\u001b[0m: "
     ]
    }
   ],
   "source": [
    "from sage.crypto.mq.rijndael_gf import RijndaelGF\n",
    "from sage.all import GF, matrix\n",
    "\n",
    "# Initialize AES with 4 columns (Nb=4) and 4 key words (Nk=4) for AES-128\n",
    "aes = RijndaelGF(4, 4)\n",
    "\n",
    "# Define the AES key (128-bit) as a hex string\n",
    "key = '000102030405060708090a0b0c0d0e0f'\n",
    "\n",
    "# Function to generate a λ-set: 256 plaintexts where one byte varies over all 256 values\n",
    "def generate_lambda_set(fixed_bytes, varying_byte_position):\n",
    "    lambda_set = []\n",
    "    for i in range(256):\n",
    "        pt = fixed_bytes[:]\n",
    "        pt[varying_byte_position] = i\n",
    "        lambda_set.append(bytes(pt))\n",
    "    return lambda_set\n",
    "\n",
    "# Function to XOR a list of ciphertexts (hex strings)\n",
    "def xor_bytes(hex_list):\n",
    "    result = bytes.fromhex(hex_list[0])\n",
    "    for hex_str in hex_list[1:]:\n",
    "        result = bytes(a ^ b for a, b in zip(result, bytes.fromhex(hex_str)))\n",
    "    return result\n",
    "\n",
    "# Generate the λ-set: vary the first byte, keep others at 0x00\n",
    "fixed_bytes = [0x00] * 16\n",
    "lambda_set = generate_lambda_set(fixed_bytes, 0)\n",
    "\n",
    "# Encrypt each plaintext in the λ-set using 4-round AES\n",
    "ciphertexts = [aes.encrypt(pt.hex(), key) for pt in lambda_set]\n",
    "\n",
    "# Compute the XOR of all ciphertexts\n",
    "xor_result = xor_bytes(ciphertexts)\n",
    "\n",
    "# Display the XOR result\n",
    "print(\"XOR result of ciphertexts:\", xor_result.hex())\n"
   ]
  },
  {
   "cell_type": "code",
   "execution_count": null,
   "id": "60e7c72d",
   "metadata": {},
   "outputs": [],
   "source": []
  }
 ],
 "metadata": {
  "kernelspec": {
   "display_name": "SageMath 9.5",
   "language": "sage",
   "name": "sagemath"
  },
  "language_info": {
   "codemirror_mode": {
    "name": "ipython",
    "version": 3
   },
   "file_extension": ".py",
   "mimetype": "text/x-python",
   "name": "python",
   "nbconvert_exporter": "python",
   "pygments_lexer": "ipython3",
   "version": "3.11.2"
  }
 },
 "nbformat": 4,
 "nbformat_minor": 5
}
